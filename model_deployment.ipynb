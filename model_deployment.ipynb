{
  "nbformat": 4,
  "nbformat_minor": 0,
  "metadata": {
    "colab": {
      "provenance": [],
      "authorship_tag": "ABX9TyN1tfu5DdEy3IZSqguFgDeT",
      "include_colab_link": true
    },
    "kernelspec": {
      "name": "python3",
      "display_name": "Python 3"
    },
    "language_info": {
      "name": "python"
    }
  },
  "cells": [
    {
      "cell_type": "markdown",
      "metadata": {
        "id": "view-in-github",
        "colab_type": "text"
      },
      "source": [
        "<a href=\"https://colab.research.google.com/github/kahnertk/retinal-vessel-segmentation/blob/main/model_deployment.ipynb\" target=\"_parent\"><img src=\"https://colab.research.google.com/assets/colab-badge.svg\" alt=\"Open In Colab\"/></a>"
      ]
    },
    {
      "cell_type": "markdown",
      "source": [
        "# Model deployment to Hugging Face Spaces using Gradio"
      ],
      "metadata": {
        "id": "asoEN_oPAfEs"
      }
    },
    {
      "cell_type": "code",
      "source": [],
      "metadata": {
        "id": "2NycUOC6Amet"
      },
      "execution_count": null,
      "outputs": []
    }
  ]
}